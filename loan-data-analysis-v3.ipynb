{
 "cells": [
  {
   "cell_type": "markdown",
   "metadata": {},
   "source": [
    "## Step 1: Import data and relevant libraries"
   ]
  },
  {
   "cell_type": "code",
   "execution_count": 1,
   "metadata": {},
   "outputs": [],
   "source": [
    "import pandas as pd\n",
    "import numpy as np\n",
    "import seaborn as sns\n",
    "import matplotlib.pyplot as plt"
   ]
  },
  {
   "cell_type": "code",
   "execution_count": 2,
   "metadata": {},
   "outputs": [
    {
     "name": "stdout",
     "output_type": "stream",
     "text": [
      "614 records in training data set\n",
      "367 records in test data set\n"
     ]
    }
   ],
   "source": [
    "training_data_loc = 'data/loan_data_training.csv'\n",
    "training_data = pd.read_csv(training_data_loc)\n",
    "\n",
    "test_data_loc = 'data/loan_data_test.csv'\n",
    "test_data = pd.read_csv(test_data_loc)\n",
    "\n",
    "print('%i records in training data set' % len(training_data))\n",
    "print('%i records in test data set' % len(test_data))"
   ]
  },
  {
   "cell_type": "markdown",
   "metadata": {},
   "source": [
    "## Step 2: Clean data in training and test sets"
   ]
  },
  {
   "cell_type": "code",
   "execution_count": 3,
   "metadata": {},
   "outputs": [
    {
     "name": "stdout",
     "output_type": "stream",
     "text": [
      "7 columns in training data set have NaN values\n",
      "['Gender', 'Married', 'Dependents', 'Self_Employed', 'LoanAmount', 'Loan_Amount_Term', 'Credit_History']\n",
      "6 columns in test data set have NaN values\n",
      "['Gender', 'Dependents', 'Self_Employed', 'LoanAmount', 'Loan_Amount_Term', 'Credit_History']\n"
     ]
    }
   ],
   "source": [
    "train_data_cols_with_nan_values = training_data.columns[training_data.isna().any()].tolist()\n",
    "print('%i columns in training data set have NaN values' % (len(train_data_cols_with_nan_values)))\n",
    "print(train_data_cols_with_nan_values)\n",
    "\n",
    "test_data_cols_with_nan_values = test_data.columns[test_data.isna().any()].tolist()\n",
    "print('%i columns in test data set have NaN values' % (len(test_data_cols_with_nan_values)))\n",
    "print(test_data_cols_with_nan_values)"
   ]
  },
  {
   "cell_type": "code",
   "execution_count": 4,
   "metadata": {},
   "outputs": [],
   "source": [
    "training_data['Gender'] = training_data['Gender'].fillna(training_data.mode()['Gender'][0])\n",
    "training_data['Married'] = training_data['Married'].fillna(training_data.mode()['Married'][0])\n",
    "training_data['Dependents'] = training_data['Dependents'].fillna(training_data.mode()['Dependents'][0])\n",
    "training_data['Self_Employed'] = training_data['Self_Employed'].fillna(training_data.mode()['Self_Employed'][0])\n",
    "training_data['Loan_Amount_Term'] = training_data['Loan_Amount_Term'].fillna(training_data.mode()['Loan_Amount_Term'][0])\n",
    "training_data['Credit_History'] = training_data['Credit_History'].fillna(training_data.mode()['Credit_History'][0])\n",
    "training_data['LoanAmount'] = training_data['LoanAmount'].fillna(training_data['LoanAmount'].median())\n",
    "\n",
    "test_data['Gender'] = test_data['Gender'].fillna(test_data.mode()['Gender'][0])\n",
    "test_data['Dependents'] = test_data['Dependents'].fillna(test_data.mode()['Dependents'][0])\n",
    "test_data['Self_Employed'] = test_data['Self_Employed'].fillna(test_data.mode()['Self_Employed'][0])\n",
    "test_data['Loan_Amount_Term'] = test_data['Loan_Amount_Term'].fillna(test_data.mode()['Loan_Amount_Term'][0])\n",
    "test_data['Credit_History'] = test_data['Credit_History'].fillna(test_data.mode()['Credit_History'][0])\n",
    "test_data['LoanAmount'] = test_data['LoanAmount'].fillna(test_data['LoanAmount'].median())"
   ]
  },
  {
   "cell_type": "code",
   "execution_count": 5,
   "metadata": {},
   "outputs": [
    {
     "name": "stdout",
     "output_type": "stream",
     "text": [
      "0 columns in training data set have NaN values\n",
      "[]\n",
      "0 columns in test data set have NaN values\n",
      "[]\n"
     ]
    }
   ],
   "source": [
    "train_data_cols_with_nan_values = training_data.columns[training_data.isna().any()].tolist()\n",
    "print('%i columns in training data set have NaN values' % (len(train_data_cols_with_nan_values)))\n",
    "print(train_data_cols_with_nan_values)\n",
    "\n",
    "test_data_cols_with_nan_values = test_data.columns[test_data.isna().any()].tolist()\n",
    "print('%i columns in test data set have NaN values' % (len(test_data_cols_with_nan_values)))\n",
    "print(test_data_cols_with_nan_values)"
   ]
  },
  {
   "cell_type": "markdown",
   "metadata": {},
   "source": [
    "## Step 3: Encode data"
   ]
  },
  {
   "cell_type": "code",
   "execution_count": 6,
   "metadata": {},
   "outputs": [],
   "source": [
    "from sklearn.preprocessing import LabelEncoder\n",
    "\n",
    "list_of_columns_to_encode = [\n",
    "    'Gender',\n",
    "    'Married',\n",
    "    'Dependents',\n",
    "    'Education',\n",
    "    'Self_Employed',\n",
    "    'Property_Area',\n",
    "    'Credit_History',\n",
    "    'Loan_Status'\n",
    "]\n",
    "\n",
    "le = LabelEncoder()\n",
    "\n",
    "for column in list_of_columns_to_encode:\n",
    "    training_data[column] = le.fit_transform(training_data[column])\n",
    "\n",
    "list_of_columns_to_encode.remove('Loan_Status')\n",
    "\n",
    "for column in list_of_columns_to_encode:\n",
    "    test_data[column] = le.fit_transform(test_data[column])"
   ]
  },
  {
   "cell_type": "markdown",
   "metadata": {},
   "source": [
    "## Step 4: Build models - version 1"
   ]
  },
  {
   "cell_type": "code",
   "execution_count": 7,
   "metadata": {},
   "outputs": [
    {
     "name": "stdout",
     "output_type": "stream",
     "text": [
      "Accuracy of SVC: 0.6891 (+/- 0.0796)\n",
      "Accuracy of DecisionTreeClassifier: 0.6674 (+/- 0.0389)\n",
      "Accuracy of KNeighborsClassifier: 0.6239 (+/- 0.0819)\n",
      "Accuracy of RandomForestClassifier: 0.7500 (+/- 0.0689)\n",
      "Accuracy of GradientBoostingClassifier: 0.7826 (+/- 0.0496)\n",
      "Accuracy of GaussianNB: 0.7935 (+/- 0.0392)\n",
      "Accuracy of LogisticRegression: 0.8065 (+/- 0.0528)\n"
     ]
    },
    {
     "data": {
      "image/png": "[encoded data removed]",
      "text/plain": [
       "<matplotlib.figure.Figure at 0x115f73e48>"
      ]
     },
     "metadata": {},
     "output_type": "display_data"
    }
   ],
   "source": [
    "from sklearn.model_selection import train_test_split\n",
    "from sklearn.model_selection import cross_val_score\n",
    "from sklearn.model_selection import KFold\n",
    "from sklearn.svm import SVC\n",
    "from sklearn.tree import DecisionTreeClassifier\n",
    "from sklearn.neighbors import KNeighborsClassifier\n",
    "from sklearn.ensemble import RandomForestClassifier\n",
    "from sklearn.ensemble import GradientBoostingClassifier\n",
    "from sklearn.linear_model import LogisticRegression\n",
    "from sklearn.naive_bayes import GaussianNB\n",
    "\n",
    "features_for_analysis = [\n",
    "    'Gender',\n",
    "    'Married',\n",
    "    'Dependents',\n",
    "    'Education',\n",
    "    'Self_Employed',\n",
    "    'ApplicantIncome',\n",
    "    'CoapplicantIncome',\n",
    "    'LoanAmount',\n",
    "    'Loan_Amount_Term',\n",
    "    'Property_Area',\n",
    "    'Credit_History',\n",
    "]\n",
    "\n",
    "features = training_data[features_for_analysis]\n",
    "\n",
    "loan_status = training_data['Loan_Status']\n",
    "\n",
    "train_data, validation_data, train_labels, validation_labels = train_test_split(features, loan_status, test_size=0.25, random_state=25)\n",
    "\n",
    "results = []\n",
    "\n",
    "names = []\n",
    "\n",
    "models = [\n",
    "    SVC(),\n",
    "    DecisionTreeClassifier(),\n",
    "    KNeighborsClassifier(),\n",
    "    RandomForestClassifier(),\n",
    "    GradientBoostingClassifier(),\n",
    "    GaussianNB(),\n",
    "    LogisticRegression(),\n",
    "]\n",
    "\n",
    "for model in models:\n",
    "    result = {}\n",
    "    classifier_name = model.__class__.__name__\n",
    "    names.append(classifier_name)\n",
    "    kfold = KFold(n_splits=10, random_state=25)\n",
    "    cross_val_results = cross_val_score(model, train_data, train_labels, cv=kfold, scoring='accuracy')\n",
    "    result['classifier_name'] = classifier_name\n",
    "    result['classifier_results'] = cross_val_results\n",
    "    results_message = \"Accuracy of %s: %0.4f (+/- %0.4f)\" % (classifier_name, cross_val_results.mean(), cross_val_results.std())\n",
    "    print(results_message)\n",
    "    results.append(cross_val_results)\n",
    "\n",
    "fig = plt.subplots(figsize=(10, 5))\n",
    "ax = sns.boxplot(data=results, orient='h')\n",
    "ax.set_yticklabels(labels=names)\n",
    "x_values = ax.get_xticks()\n",
    "ax.set_xticklabels(['{:,.2%}'.format(val) for val in x_values])\n",
    "plt.title('Cross validation results for 7 different ML models (11 features)', fontsize=20)\n",
    "plt.xlabel('Cross validation score', fontsize=12)\n",
    "plt.ylabel('Classification model', fontsize=12)\n",
    "plt.show()"
   ]
  },
  {
   "cell_type": "markdown",
   "metadata": {},
   "source": [
    "## Step 5: Generate predictions for test data with LogisticRegression - version 1"
   ]
  },
  {
   "cell_type": "code",
   "execution_count": 8,
   "metadata": {},
   "outputs": [
    {
     "name": "stdout",
     "output_type": "stream",
     "text": [
      "The accuracy score of a basic LogisticRegression classifier: 0.805195\n"
     ]
    }
   ],
   "source": [
    "from sklearn.metrics import accuracy_score\n",
    "\n",
    "lr_classifier = LogisticRegression()\n",
    "\n",
    "lr_classifier.fit(train_data, train_labels)\n",
    "\n",
    "lr_classifier_predictions = lr_classifier.predict(validation_data)\n",
    "\n",
    "lr_classifier_accuracy_score = accuracy_score(validation_labels, lr_classifier_predictions)\n",
    "\n",
    "print('The accuracy score of a basic LogisticRegression classifier: %f' % (lr_classifier_accuracy_score))"
   ]
  },
  {
   "cell_type": "code",
   "execution_count": 9,
   "metadata": {},
   "outputs": [],
   "source": [
    "submission_df = pd.read_csv('data/sample_submission.csv')\n",
    "\n",
    "test_data = test_data.drop('Loan_ID', axis=1)\n",
    "\n",
    "test_predictions_for_submission = lr_classifier.predict(test_data)\n",
    "\n",
    "submission_df['Loan_Status'] = test_predictions_for_submission\n",
    "\n",
    "submission_df['Loan_Status'].replace(0, 'N',inplace=True) \n",
    "\n",
    "submission_df['Loan_Status'].replace(1, 'Y',inplace=True)\n",
    "\n",
    "submission_df.to_csv('submissions/challenge_submission.csv', index=False)"
   ]
  },
  {
   "cell_type": "markdown",
   "metadata": {},
   "source": [
    "## Step 6: Feature engineering"
   ]
  },
  {
   "cell_type": "code",
   "execution_count": 10,
   "metadata": {},
   "outputs": [],
   "source": [
    "training_data['Total_Income'] = training_data['ApplicantIncome'] + training_data['CoapplicantIncome']\n",
    "training_data['Dual_Income_Household'] = np.where((training_data['ApplicantIncome'] > 0) & (training_data['CoapplicantIncome'] > 0), 1, 0)\n",
    "training_data['Monthly_Payments'] = training_data['LoanAmount'] / training_data['Loan_Amount_Term'] * 30\n",
    "training_data['Debt_Percentage'] = training_data['Monthly_Payments'] / training_data['Total_Income'] * 100\n",
    "\n",
    "test_data['Total_Income'] = test_data['ApplicantIncome'] + test_data['CoapplicantIncome']\n",
    "test_data['Dual_Income_Household'] = np.where((test_data['ApplicantIncome'] > 0) & (test_data['CoapplicantIncome'] > 0), 1, 0)\n",
    "test_data['Monthly_Payments'] = test_data['LoanAmount'] / test_data['Loan_Amount_Term'] * 30\n",
    "test_data['Debt_Percentage'] = test_data['Monthly_Payments'] / test_data['Total_Income'] * 100"
   ]
  },
  {
   "cell_type": "markdown",
   "metadata": {},
   "source": [
    "## Step 7: Build models - version 2"
   ]
  },
  {
   "cell_type": "code",
   "execution_count": 11,
   "metadata": {},
   "outputs": [
    {
     "name": "stdout",
     "output_type": "stream",
     "text": [
      "Accuracy of SVC: 0.6891 (+/- 0.0796)\n",
      "Accuracy of DecisionTreeClassifier: 0.6717 (+/- 0.0670)\n",
      "Accuracy of KNeighborsClassifier: 0.6239 (+/- 0.0728)\n",
      "Accuracy of RandomForestClassifier: 0.7543 (+/- 0.0351)\n",
      "Accuracy of GradientBoostingClassifier: 0.7848 (+/- 0.0490)\n",
      "Accuracy of GaussianNB: 0.7978 (+/- 0.0477)\n",
      "Accuracy of LogisticRegression: 0.8043 (+/- 0.0466)\n"
     ]
    },
    {
     "data": {
      "image/png": "[encoded data removed]",
      "text/plain": [
       "<matplotlib.figure.Figure at 0x11647bf28>"
      ]
     },
     "metadata": {},
     "output_type": "display_data"
    }
   ],
   "source": [
    "features_for_analysis = [\n",
    "    'Gender',\n",
    "    'Married',\n",
    "    'Dependents',\n",
    "    'Education',\n",
    "    'Self_Employed',\n",
    "    'Total_Income',\n",
    "    'Dual_Income_Household',\n",
    "    'Monthly_Payments',\n",
    "    'Debt_Percentage',\n",
    "    'LoanAmount',\n",
    "    'Loan_Amount_Term',\n",
    "    'Property_Area',\n",
    "    'Credit_History',\n",
    "]\n",
    "\n",
    "features = training_data[features_for_analysis]\n",
    "\n",
    "loan_status = training_data['Loan_Status']\n",
    "\n",
    "train_data, validation_data, train_labels, validation_labels = train_test_split(features, loan_status, test_size=0.25, random_state=25)\n",
    "\n",
    "results = []\n",
    "\n",
    "names = []\n",
    "\n",
    "models = [\n",
    "    SVC(),\n",
    "    DecisionTreeClassifier(),\n",
    "    KNeighborsClassifier(),\n",
    "    RandomForestClassifier(),\n",
    "    GradientBoostingClassifier(),\n",
    "    GaussianNB(),\n",
    "    LogisticRegression(),\n",
    "]\n",
    "\n",
    "for model in models:\n",
    "    result = {}\n",
    "    classifier_name = model.__class__.__name__\n",
    "    names.append(classifier_name)\n",
    "    kfold = KFold(n_splits=10, random_state=25)\n",
    "    cross_val_results = cross_val_score(model, train_data, train_labels, cv=kfold, scoring='accuracy')\n",
    "    result['classifier_name'] = classifier_name\n",
    "    result['classifier_results'] = cross_val_results\n",
    "    results_message = \"Accuracy of %s: %0.4f (+/- %0.4f)\" % (classifier_name, cross_val_results.mean(), cross_val_results.std())\n",
    "    print(results_message)\n",
    "    results.append(cross_val_results)\n",
    "\n",
    "fig = plt.subplots(figsize=(10, 5))\n",
    "ax = sns.boxplot(data=results, orient='h')\n",
    "ax.set_yticklabels(labels=names)\n",
    "x_values = ax.get_xticks()\n",
    "ax.set_xticklabels(['{:,.2%}'.format(val) for val in x_values])\n",
    "plt.title('Cross validation results for 7 different ML models (11 features)', fontsize=20)\n",
    "plt.xlabel('Cross validation score', fontsize=12)\n",
    "plt.ylabel('Classification model', fontsize=12)\n",
    "plt.show()"
   ]
  },
  {
   "cell_type": "code",
   "execution_count": 12,
   "metadata": {},
   "outputs": [],
   "source": [
    "## Step 8: Generate predictions for test data with LogisticRegression - version 2"
   ]
  },
  {
   "cell_type": "code",
   "execution_count": 13,
   "metadata": {},
   "outputs": [
    {
     "name": "stdout",
     "output_type": "stream",
     "text": [
      "The accuracy score of a basic LogisticRegression classifier: 0.805195\n"
     ]
    }
   ],
   "source": [
    "from sklearn.metrics import accuracy_score\n",
    "\n",
    "lr_classifier = LogisticRegression()\n",
    "\n",
    "lr_classifier.fit(train_data, train_labels)\n",
    "\n",
    "lr_classifier_predictions = lr_classifier.predict(validation_data)\n",
    "\n",
    "lr_classifier_accuracy_score = accuracy_score(validation_labels, lr_classifier_predictions)\n",
    "\n",
    "print('The accuracy score of a basic LogisticRegression classifier: %f' % (lr_classifier_accuracy_score))"
   ]
  },
  {
   "cell_type": "code",
   "execution_count": 14,
   "metadata": {},
   "outputs": [],
   "source": [
    "submission_df = pd.read_csv('data/sample_submission.csv')\n",
    "\n",
    "test_data_copy = test_data[features_for_analysis]\n",
    "\n",
    "test_predictions_for_submission = lr_classifier.predict(test_data_copy)\n",
    "\n",
    "submission_df['Loan_Status'] = test_predictions_for_submission\n",
    "\n",
    "submission_df['Loan_Status'].replace(0, 'N',inplace=True) \n",
    "\n",
    "submission_df['Loan_Status'].replace(1, 'Y',inplace=True)\n",
    "\n",
    "submission_df.to_csv('submissions/challenge_submission.csv', index=False)"
   ]
  },
  {
   "cell_type": "code",
   "execution_count": null,
   "metadata": {},
   "outputs": [],
   "source": []
  }
 ],
 "metadata": {
  "kernelspec": {
   "display_name": "Python 3",
   "language": "python",
   "name": "python3"
  },
  "language_info": {
   "codemirror_mode": {
    "name": "ipython",
    "version": 3
   },
   "file_extension": ".py",
   "mimetype": "text/x-python",
   "name": "python",
   "nbconvert_exporter": "python",
   "pygments_lexer": "ipython3",
   "version": "3.6.4"
  }
 },
 "nbformat": 4,
 "nbformat_minor": 2
}
