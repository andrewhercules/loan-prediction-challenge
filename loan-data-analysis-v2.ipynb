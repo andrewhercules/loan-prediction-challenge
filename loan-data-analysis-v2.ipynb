{
 "cells": [
  {
   "cell_type": "code",
   "execution_count": 1,
   "metadata": {},
   "outputs": [],
   "source": [
    "import pandas as pd\n",
    "import numpy as np\n",
    "import seaborn as sns\n",
    "import matplotlib.pyplot as plt"
   ]
  },
  {
   "cell_type": "code",
   "execution_count": 2,
   "metadata": {},
   "outputs": [
    {
     "name": "stdout",
     "output_type": "stream",
     "text": [
      "614 records in training data set\n",
      "367 records in test data set\n"
     ]
    }
   ],
   "source": [
    "training_data_loc = 'data/loan_data_training.csv'\n",
    "training_data = pd.read_csv(training_data_loc)\n",
    "\n",
    "test_data_loc = 'data/loan_data_test.csv'\n",
    "test_data = pd.read_csv(test_data_loc)\n",
    "\n",
    "print('%i records in training data set' % len(training_data))\n",
    "print('%i records in test data set' % len(test_data))"
   ]
  },
  {
   "cell_type": "code",
   "execution_count": null,
   "metadata": {},
   "outputs": [],
   "source": []
  }
 ],
 "metadata": {
  "kernelspec": {
   "display_name": "Python 3",
   "language": "python",
   "name": "python3"
  },
  "language_info": {
   "codemirror_mode": {
    "name": "ipython",
    "version": 3
   },
   "file_extension": ".py",
   "mimetype": "text/x-python",
   "name": "python",
   "nbconvert_exporter": "python",
   "pygments_lexer": "ipython3",
   "version": "3.6.4"
  }
 },
 "nbformat": 4,
 "nbformat_minor": 2
}
